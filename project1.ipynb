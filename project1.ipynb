{
  "nbformat": 4,
  "nbformat_minor": 0,
  "metadata": {
    "colab": {
      "provenance": [],
      "toc_visible": true,
      "authorship_tag": "ABX9TyNte4lRzJ9ZIgEGEbFH29P/",
      "include_colab_link": true
    },
    "kernelspec": {
      "name": "python3",
      "display_name": "Python 3"
    },
    "language_info": {
      "name": "python"
    }
  },
  "cells": [
    {
      "cell_type": "markdown",
      "metadata": {
        "id": "view-in-github",
        "colab_type": "text"
      },
      "source": [
        "<a href=\"https://colab.research.google.com/github/hansrajmina/Assignment_phase5/blob/main/project1.ipynb\" target=\"_parent\"><img src=\"https://colab.research.google.com/assets/colab-badge.svg\" alt=\"Open In Colab\"/></a>"
      ]
    },
    {
      "cell_type": "code",
      "execution_count": null,
      "metadata": {
        "id": "8o2JxQBc2VGZ"
      },
      "outputs": [],
      "source": [
        "import numpy as np\n",
        "import pandas as pd\n",
        "import matplotlib.pyplot as plt\n",
        "import seaborn as sns\n",
        "from sklearn.model_selection import train_test_split, GridSearchCV\n",
        "from sklearn.linear_model import LinearRegression\n",
        "from sklearn.ensemble import RandomForestRegressor, GradientBoostingRegressor\n",
        "from sklearn.metrics import mean_squared_error, r2_score\n",
        "import scipy.stats as stats\n",
        "df =pd.read_csv('data_YesBank_StockPrices.csv')\n",
        "df.head()"
      ]
    },
    {
      "cell_type": "code",
      "source": [
        "df.shape"
      ],
      "metadata": {
        "id": "nc4fkDuI2jzE"
      },
      "execution_count": null,
      "outputs": []
    },
    {
      "cell_type": "code",
      "source": [
        "df.info()"
      ],
      "metadata": {
        "id": "jbglztM85MxO"
      },
      "execution_count": null,
      "outputs": []
    },
    {
      "cell_type": "code",
      "source": [
        "df.isnull().sum()"
      ],
      "metadata": {
        "id": "jhfCkz7j5SXt"
      },
      "execution_count": null,
      "outputs": []
    },
    {
      "cell_type": "code",
      "source": [
        "df.describe()"
      ],
      "metadata": {
        "id": "ofMq_Ov25qjZ"
      },
      "execution_count": null,
      "outputs": []
    },
    {
      "cell_type": "code",
      "source": [
        "df.duplicated().sum()"
      ],
      "metadata": {
        "id": "Rk6ou-8a5zv7"
      },
      "execution_count": null,
      "outputs": []
    },
    {
      "cell_type": "code",
      "source": [
        "df.select_dtypes(include='number').corr()\n"
      ],
      "metadata": {
        "id": "u2MO0XUn52OO"
      },
      "execution_count": null,
      "outputs": []
    },
    {
      "cell_type": "code",
      "source": [
        "corr_matrix = df[['Open', 'High', 'Low', 'Close']].corr()\n",
        "plt.figure(figsize=(8, 6))\n",
        "sns.heatmap(corr_matrix, annot=True, cmap='coolwarm', fmt=\".2f\", linewidths=0.5)\n",
        "\n",
        "# Titles and layout\n",
        "plt.title('Correlation Heatmap of Yes Bank Stock Data')\n",
        "plt.tight_layout()\n",
        "plt.show()"
      ],
      "metadata": {
        "id": "bya4aoSq552e"
      },
      "execution_count": null,
      "outputs": []
    },
    {
      "cell_type": "code",
      "source": [
        "\n",
        "plt.figure(figsize=(10, 6))\n",
        "\n",
        "# KDE for each column\n",
        "sns.kdeplot(df['Open'], label='Open', shade=True)\n",
        "sns.kdeplot(df['High'], label='High', shade=True)\n",
        "sns.kdeplot(df['Low'], label='Low', shade=True)\n",
        "sns.kdeplot(df['Close'], label='Close', shade=True)\n",
        "\n",
        "plt.title('KDE Plot of Yes Bank Stock Prices')\n",
        "plt.xlabel('Price')\n",
        "plt.ylabel('Density')\n",
        "plt.legend()\n",
        "plt.grid(True)\n",
        "plt.tight_layout()\n",
        "plt.show()"
      ],
      "metadata": {
        "id": "5NebcsmP61bV"
      },
      "execution_count": null,
      "outputs": []
    },
    {
      "cell_type": "code",
      "source": [
        "import scipy.stats as stats\n",
        "import matplotlib.pyplot as plt\n",
        "\n",
        "# Q-Q plot for 'Close' prices\n",
        "plt.figure(figsize=(6, 6))\n",
        "stats.probplot(df['Close'], dist='norm', plot=plt)\n",
        "plt.title('Q-Q Plot of Close Prices')\n",
        "plt.grid(True)\n",
        "plt.tight_layout()\n",
        "plt.show()\n"
      ],
      "metadata": {
        "id": "eK4o5tmT_2-d"
      },
      "execution_count": null,
      "outputs": []
    },
    {
      "cell_type": "code",
      "source": [
        "df['Date'] = pd.to_datetime(df['Date'], format='%b-%y')  # convert to datetime\n",
        "df = df.sort_values('Date')\n",
        "\n",
        "# Plot\n",
        "plt.figure(figsize=(12, 6))\n",
        "plt.plot(df['Date'], df['Close'], label='Close Price', marker='o')\n",
        "plt.title('Trend of Close Price Over Time')\n",
        "plt.xlabel('Date')\n",
        "plt.ylabel('Close Price')\n",
        "plt.xticks(rotation=45)\n",
        "plt.grid(True)\n",
        "plt.legend()\n",
        "plt.tight_layout()\n",
        "plt.show()"
      ],
      "metadata": {
        "id": "7NAXpSjQ7G1R"
      },
      "execution_count": null,
      "outputs": []
    },
    {
      "cell_type": "code",
      "source": [
        "plt.figure(figsize=(12, 6))\n",
        "plt.plot(df['Open'], df['Close'], label='Close Price', marker='o')\n",
        "plt.xlabel('Open')\n",
        "plt.ylabel('Close Price')\n",
        "plt.xticks(rotation=45)\n",
        "plt.grid(True)\n",
        "plt.legend()\n",
        "plt.tight_layout()\n",
        "plt.show()"
      ],
      "metadata": {
        "id": "cQSbts3o7ta4"
      },
      "execution_count": null,
      "outputs": []
    },
    {
      "cell_type": "code",
      "source": [
        "plt.figure(figsize=(12, 6))\n",
        "plt.plot(df['High'], df['Close'], label='Close Price', marker='o')\n",
        "plt.xlabel('High')\n",
        "plt.ylabel('Close Price')\n",
        "plt.xticks(rotation=45)\n",
        "plt.grid(True)\n",
        "plt.legend()\n",
        "plt.tight_layout()\n",
        "plt.show()"
      ],
      "metadata": {
        "id": "aLpRC3kj8AC8"
      },
      "execution_count": null,
      "outputs": []
    },
    {
      "cell_type": "code",
      "source": [
        "plt.figure(figsize=(12, 6))\n",
        "plt.plot(df['Low'], df['Close'], label='Close Price', marker='o')\n",
        "plt.xlabel('low')\n",
        "plt.ylabel('Close Price')\n",
        "plt.xticks(rotation=45)\n",
        "plt.grid(True)\n",
        "plt.legend()\n",
        "plt.tight_layout()\n",
        "plt.show()"
      ],
      "metadata": {
        "id": "fUBEkHl18EeJ"
      },
      "execution_count": null,
      "outputs": []
    },
    {
      "cell_type": "code",
      "source": [
        "!pip install ydata-profiling\n"
      ],
      "metadata": {
        "id": "kIn5lHTE9-Sy"
      },
      "execution_count": null,
      "outputs": []
    },
    {
      "cell_type": "code",
      "source": [
        "from ydata_profiling import ProfileReport\n",
        "\n",
        "# Load your DataFrame\n",
        "# df = pd.read_csv('your_file.csv')  # or however you get your DataFrame\n",
        "\n",
        "# Create a profiling report\n",
        "profile = ProfileReport(df, title=\"Pandas Profiling Report\", explorative=True)\n",
        "\n",
        "# Display within notebook (if using Jupyter/Colab)\n",
        "profile.to_notebook_iframe()\n",
        "\n",
        "# OR: Save to HTML\n",
        "profile.to_file(\"pandas_profiling_report.html\")\n"
      ],
      "metadata": {
        "id": "NqMyqNy5-LpW"
      },
      "execution_count": null,
      "outputs": []
    },
    {
      "cell_type": "code",
      "source": [
        "from sklearn.model_selection import train_test_split, GridSearchCV\n",
        "from sklearn.linear_model import LinearRegression\n",
        "from sklearn.ensemble import RandomForestRegressor, GradientBoostingRegressor\n",
        "from sklearn.metrics import mean_squared_error, r2_score\n",
        "import pandas as pd\n",
        "import numpy as np\n",
        "\n",
        "# Define features and target\n",
        "features = ['Open', 'High', 'Low']\n",
        "target = 'Close'\n",
        "\n",
        "# Prepare data\n",
        "X = df[features]\n",
        "y = df[target]\n",
        "X_train, X_test, y_train, y_test = train_test_split(X, y, test_size=0.1, shuffle=False)\n",
        "\n",
        "# Store results\n",
        "results = []\n",
        "\n",
        "# 1. Linear Regression (no hyperparameters to tune)\n",
        "lr = LinearRegression()\n",
        "lr.fit(X_train, y_train)\n",
        "lr_pred = lr.predict(X_test)\n",
        "results.append({\n",
        "    'Model': 'Linear Regression',\n",
        "    'RMSE': np.sqrt(mean_squared_error(y_test, lr_pred)),\n",
        "    'R2': r2_score(y_test, lr_pred)\n",
        "})\n",
        "\n",
        "# 2. Random Forest Regressor\n",
        "rf_params = {\n",
        "    'n_estimators': [50, 100],\n",
        "    'max_depth': [3, 5, None]\n",
        "}\n",
        "rf = RandomForestRegressor(random_state=42)\n",
        "rf_grid = GridSearchCV(rf, rf_params, cv=5, scoring='neg_mean_squared_error', n_jobs=-1)\n",
        "rf_grid.fit(X_train, y_train)\n",
        "rf_best = rf_grid.best_estimator_\n",
        "rf_pred = rf_best.predict(X_test)\n",
        "results.append({\n",
        "    'Model': f'Random Forest ({rf_grid.best_params_})',\n",
        "    'RMSE': np.sqrt(mean_squared_error(y_test, rf_pred)),\n",
        "    'R2': r2_score(y_test, rf_pred)\n",
        "})\n",
        "\n",
        "# 3. Gradient Boosting Regressor\n",
        "gbr_params = {\n",
        "    'n_estimators': [50, 100],\n",
        "    'learning_rate': [0.05, 0.1],\n",
        "    'max_depth': [2, 3]\n",
        "}\n",
        "gbr = GradientBoostingRegressor(random_state=42)\n",
        "gbr_grid = GridSearchCV(gbr, gbr_params, cv=5, scoring='neg_mean_squared_error', n_jobs=-1)\n",
        "gbr_grid.fit(X_train, y_train)\n",
        "gbr_best = gbr_grid.best_estimator_\n",
        "gbr_pred = gbr_best.predict(X_test)\n",
        "results.append({\n",
        "    'Model': f'Gradient Boosting ({gbr_grid.best_params_})',\n",
        "    'RMSE': np.sqrt(mean_squared_error(y_test, gbr_pred)),\n",
        "    'R2': r2_score(y_test, gbr_pred)\n",
        "})\n",
        "\n",
        "# Display all results\n",
        "results_df = pd.DataFrame(results)\n",
        "print(results_df)\n"
      ],
      "metadata": {
        "id": "0p_CVFbd-2EI"
      },
      "execution_count": null,
      "outputs": []
    },
    {
      "cell_type": "code",
      "source": [
        "#Hypothesis Tests"
      ],
      "metadata": {
        "id": "cw4GenOo_d43"
      },
      "execution_count": null,
      "outputs": []
    },
    {
      "cell_type": "markdown",
      "source": [
        "1. One-Sample t-test"
      ],
      "metadata": {
        "id": "OoHvV-PMA7MN"
      }
    },
    {
      "cell_type": "code",
      "source": [
        "from scipy.stats import ttest_1samp\n",
        "\n",
        "# Test if mean of 'Close' price = 100\n",
        "t_stat, p_val = ttest_1samp(df['Close'], 100)\n",
        "print(f\"t-statistic: {t_stat:.4f}, p-value: {p_val:.4f}\")\n"
      ],
      "metadata": {
        "id": "_-UVQmkIAggg"
      },
      "execution_count": null,
      "outputs": []
    },
    {
      "cell_type": "code",
      "source": [
        " Two-Sample t-test"
      ],
      "metadata": {
        "id": "PjrIGppOA-fW"
      },
      "execution_count": null,
      "outputs": []
    },
    {
      "cell_type": "code",
      "source": [
        "from scipy.stats import ttest_ind\n",
        "\n",
        "t_stat, p_val = ttest_ind(df['Open'], df['Close'])\n",
        "print(f\"t-statistic: {t_stat:.4f}, p-value: {p_val:.4f}\")\n"
      ],
      "metadata": {
        "id": "tT5sGzAhAlK5"
      },
      "execution_count": null,
      "outputs": []
    },
    {
      "cell_type": "code",
      "source": [],
      "metadata": {
        "id": "wUe_PVqTAtFo"
      },
      "execution_count": null,
      "outputs": []
    }
  ]
}